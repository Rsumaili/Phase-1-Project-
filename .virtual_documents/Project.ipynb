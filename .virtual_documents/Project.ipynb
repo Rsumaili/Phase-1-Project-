


import pandas as pd
import matplotlib.pyplot as plt
import seaborn as sns
df = pd.read_csv("Aviation_Data.csv")

 #Displaying data on the dataset
df.info()





import pandas as pd
import matplotlib.pyplot as plt
import seaborn as sns

df = pd.read_csv("Aviation_Data.csv")

 #Show Aviation dataset for the first 5 rows and last 5 rows
df.head()


import pandas as pd
import matplotlib.pyplot as plt
import seaborn as sns
df = pd.read_csv("Aviation_Data.csv", low_memory=False)

 #Show Aviation dataset for the first 5 rows and last 5 rows
df.tail()





df["Event.Date"] = pd.to_datetime(df["Event.Date"], errors="coerce")  
df["Publication.Date"] = pd.to_datetime(df["Publication.Date"], format="%d-%m-%Y", errors="coerce") 






df[["Aircraft.Category", "Weather.Condition", "Broad.phase.of.flight", "Purpose.of.flight"]] = df[
    ["Aircraft.Category", "Weather.Condition", "Broad.phase.of.flight", "Purpose.of.flight"]
].fillna("Unknown")

df[["Total.Fatal.Injuries", "Total.Serious.Injuries", "Total.Minor.Injuries", "Total.Uninjured"]] = df[
    ["Total.Fatal.Injuries", "Total.Serious.Injuries", "Total.Minor.Injuries", "Total.Uninjured"]
].fillna(0)






#Check remaining missing values
missing_values = df.isnull().sum().sort_values(ascending=False)
missing_values[missing_values > 0]





import matplotlib.pyplot as plt

plt.figure(figsize=(15, 8))  
df["Event.Date"].dt.year.value_counts().sort_index().plot(
    kind="line", marker="o", color="darkblue", linestyle="-"
)  
plt.title("Yearly Aviation Accidents (1962-2023)", fontsize=16)  
plt.xlabel("Year", fontsize=14)  
plt.ylabel("Accident Count", fontsize=14)  
plt.grid(True, linestyle="--", alpha=0.6)  
plt.show()







# Analyzing yearly fatal injuries in the aviation industry
plt.figure(figsize=(20, 8))  
df.groupby(df["Event.Date"].dt.year)["Total.Fatal.Injuries"].sum().plot(
    kind="line", marker="o", color="crimson", linestyle="-"
)  
plt.title("Annual Fatalities in Aviation (1962-2023)", fontsize=18)  
plt.xlabel("Year", fontsize=16)  
plt.ylabel("Total Fatalities", fontsize=16)  
plt.grid(True, linestyle="--", alpha=0.6)  
plt.show()







# Categorize accidents as Fatal or Non-Fatal
df["Accident.Severity"] = df["Total.Fatal.Injuries"].apply(lambda x: "Fatal" if x > 0 else "Non-Fatal")

# Count fatal vs. non-fatal accidents
severity_counts = df["Accident.Severity"].value_counts()
print(severity_counts)






plt.figure(figsize=(10, 7))
sns.barplot(x=severity_counts.index, y=severity_counts.values, hue=severity_counts.index, 
            palette=["darkred", "firebrick"], legend=False)
plt.title("Comparison of Fatal and Non-Fatal Accidents", fontsize=18)
plt.xlabel("Severity Type", fontsize=16)
plt.ylabel("Accident Count", fontsize=16)
plt.xticks(rotation=15)
plt.show()






# Count accidents by phase of flight
flight_phase_counts = df["Broad.phase.of.flight"].value_counts().head(10)  # Top 10 phases
print(flight_phase_counts)





plt.figure(figsize=(14, 7))
sns.barplot(x=flight_phase_counts.values, y=flight_phase_counts.index, 
            hue=flight_phase_counts.index, palette="Reds_r", legend=False)
plt.title("Accidents by Flight Phase", fontsize=16)
plt.xlabel("Total Accidents", fontsize=13)
plt.ylabel("Flight Phase", fontsize=13)
plt.grid(axis="x", linestyle="--", alpha=0.7)
plt.show()






# Count accidents by weather conditions
weather_counts = df["Weather.Condition"].value_counts()
print(weather_counts)





plt.figure(figsize=(10, 6))  
sns.barplot(x=weather_counts.index, y=weather_counts.values, palette="plasma")  
plt.title("Weather-Related Aviation Accidents", fontsize=16)  
plt.xlabel("Type of Weather", fontsize=14)  
plt.ylabel("Accident Frequency", fontsize=14)  
plt.show()










