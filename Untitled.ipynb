{
 "cells": [
  {
   "cell_type": "code",
   "execution_count": null,
   "id": "bdfa67f2-2394-4acb-b642-12b8ea78c61d",
   "metadata": {},
   "outputs": [],
   "source": []
  }
 ],
 "metadata": {
  "kernelspec": {
   "display_name": "Python (learn-env)",
   "language": "python",
   "name": "learn-env"
  },
  "language_info": {
   "name": ""
  }
 },
 "nbformat": 4,
 "nbformat_minor": 5
}
